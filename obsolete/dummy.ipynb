{
 "cells": [
  {
   "cell_type": "code",
   "execution_count": 1,
   "metadata": {},
   "outputs": [
    {
     "name": "stdout",
     "output_type": "stream",
     "text": [
      "Hello\n"
     ]
    }
   ],
   "source": [
    "from __future__ import print_function\n",
    "\n",
    "print('Hello')"
   ]
  },
  {
   "cell_type": "code",
   "execution_count": 3,
   "metadata": {},
   "outputs": [
    {
     "name": "stdout",
     "output_type": "stream",
     "text": [
      "10\n"
     ]
    }
   ],
   "source": [
    "exec('a=10')\n",
    "\n",
    "print(a)"
   ]
  },
  {
   "cell_type": "code",
   "execution_count": 4,
   "metadata": {},
   "outputs": [
    {
     "name": "stdout",
     "output_type": "stream",
     "text": [
      "10\n"
     ]
    }
   ],
   "source": [
    "exec('b=%d'%a)\n",
    "\n",
    "print(b)"
   ]
  },
  {
   "cell_type": "code",
   "execution_count": 9,
   "metadata": {},
   "outputs": [
    {
     "name": "stdout",
     "output_type": "stream",
     "text": [
      "6.674079999999999e-08\n"
     ]
    }
   ],
   "source": [
    "from astropy import constants as cons\n",
    "val='G'\n",
    "exec('astroval  = cons.%s.cgs.value'%val)\n",
    "\n",
    "print(astroval)"
   ]
  },
  {
   "cell_type": "code",
   "execution_count": 10,
   "metadata": {},
   "outputs": [],
   "source": [
    "consmatch = {'g'      : 'G',       \\\n",
    "             'lsun'   : 'L_sun',   \\\n",
    "             'msun'   : 'M_sun',   \\\n",
    "             'rsun'   : 'R_sun',   \\\n",
    "             'au'     : 'au',      \\\n",
    "             'c'      : 'c',       \\\n",
    "#             'e'      : 'e',       \\\n",
    "             'alpha'  : 'alpha',   \\\n",
    "             'h'      : 'h',       \\\n",
    "             'kb'     : 'k_B',     \\\n",
    "             'pc'     : 'pc',      \\\n",
    "             'kpc'    : 'kpc',     \\\n",
    "             'me'     : 'm_e',     \\\n",
    "             'mn'     : 'm_n',     \\\n",
    "             'mp'     : 'm_p',     \\\n",
    "             'mh'     : 'm_p',     \\\n",
    "             'amu'    : 'u',       \\\n",
    "             'sigmaT' : 'sigma_T', \\\n",
    "             'sigmaSB': 'sigma_sb'}"
   ]
  },
  {
   "cell_type": "code",
   "execution_count": 13,
   "metadata": {},
   "outputs": [
    {
     "name": "stdout",
     "output_type": "stream",
     "text": [
      "       g \t               G \t 6.674080e-08 \t cm3 / (g s2)\n",
      "    lsun \t           L_sun \t 3.828000e+33 \t erg / s\n",
      "    msun \t           M_sun \t 1.988475e+33 \t g\n",
      "    rsun \t           R_sun \t 6.957000e+10 \t cm\n",
      "      au \t              au \t 1.495979e+13 \t cm\n",
      "       c \t               c \t 2.997925e+10 \t cm / s\n",
      "   alpha \t           alpha \t 7.297353e-03 \t \n",
      "       h \t               h \t 6.626070e-27 \t erg s\n",
      "      kb \t             k_B \t 1.380649e-16 \t erg / K\n",
      "      pc \t              pc \t 3.085678e+18 \t cm\n",
      "     kpc \t             kpc \t 3.085678e+21 \t cm\n",
      "      me \t             m_e \t 9.109384e-28 \t g\n",
      "      mn \t             m_n \t 1.674927e-24 \t g\n",
      "      mp \t             m_p \t 1.672622e-24 \t g\n",
      "      mh \t             m_p \t 1.672622e-24 \t g\n",
      "     amu \t               u \t 1.660539e-24 \t g\n",
      "  sigmaT \t         sigma_T \t 6.652459e-25 \t cm2\n",
      " sigmaSB \t        sigma_sb \t 5.670367e-05 \t g / (K4 s3)\n"
     ]
    }
   ],
   "source": [
    "from future.utils import iteritems\n",
    "\n",
    "for (key,val) in iteritems(consmatch):\n",
    "    #print(key,val)\n",
    "    exec('astroval  = cons.%s.cgs.value'%val)\n",
    "    #print(astroval)\n",
    "    exec('astrounit = cons.%s.cgs.unit'%val)\n",
    "    print('%8s \\t %15s \\t %e \\t %s'%(key,val,astroval,astrounit ))\n"
   ]
  },
  {
   "cell_type": "code",
   "execution_count": 14,
   "metadata": {},
   "outputs": [],
   "source": [
    "a = lambda z:z+5"
   ]
  },
  {
   "cell_type": "code",
   "execution_count": 16,
   "metadata": {},
   "outputs": [
    {
     "name": "stdout",
     "output_type": "stream",
     "text": [
      "8\n"
     ]
    }
   ],
   "source": [
    "print(a(3))"
   ]
  },
  {
   "cell_type": "code",
   "execution_count": 17,
   "metadata": {},
   "outputs": [],
   "source": [
    "import numpy as np\n",
    "\n",
    "H0 = 1.\n",
    "OL = 1.\n",
    "Om = 0.\n",
    "\n",
    "Hz      = lambda z: H0 * np.sqrt( OL + (1.+z)**3 * Om)"
   ]
  },
  {
   "cell_type": "code",
   "execution_count": 18,
   "metadata": {},
   "outputs": [
    {
     "name": "stdout",
     "output_type": "stream",
     "text": [
      "1.0\n"
     ]
    }
   ],
   "source": [
    "print(Hz(10))"
   ]
  },
  {
   "cell_type": "code",
   "execution_count": 2,
   "metadata": {},
   "outputs": [],
   "source": [
    "import ipywidgets"
   ]
  },
  {
   "cell_type": "code",
   "execution_count": 6,
   "metadata": {},
   "outputs": [],
   "source": [
    "a = [1,2,3]\n",
    "\n",
    "b = list(map(float,a))"
   ]
  },
  {
   "cell_type": "code",
   "execution_count": 7,
   "metadata": {},
   "outputs": [
    {
     "name": "stdout",
     "output_type": "stream",
     "text": [
      "[1.0, 2.0, 3.0]\n"
     ]
    }
   ],
   "source": [
    "print(b)"
   ]
  },
  {
   "cell_type": "code",
   "execution_count": null,
   "metadata": {},
   "outputs": [],
   "source": []
  }
 ],
 "metadata": {
  "kernelspec": {
   "display_name": "Python 3",
   "language": "python",
   "name": "python3"
  },
  "language_info": {
   "codemirror_mode": {
    "name": "ipython",
    "version": 3
   },
   "file_extension": ".py",
   "mimetype": "text/x-python",
   "name": "python",
   "nbconvert_exporter": "python",
   "pygments_lexer": "ipython3",
   "version": "3.6.8"
  }
 },
 "nbformat": 4,
 "nbformat_minor": 2
}
